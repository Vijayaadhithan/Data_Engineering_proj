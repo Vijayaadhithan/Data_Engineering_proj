{
 "cells": [
  {
   "cell_type": "code",
   "execution_count": null,
   "metadata": {},
   "outputs": [],
   "source": [
    "import pandas as pd\n",
    "import h5py\n",
    "import numpy as np\n",
    "import glob\n",
    "import os\n",
    "import matplotlib.pyplot as plt"
   ]
  },
  {
   "cell_type": "code",
   "execution_count": null,
   "metadata": {},
   "outputs": [],
   "source": [
    "dataset_path = glob.glob('/opt/workspace/data/MillionSongSubset/*/*/*/*.h5')\n",
    "len(dataset_path)"
   ]
  },
  {
   "cell_type": "code",
   "execution_count": null,
   "metadata": {},
   "outputs": [],
   "source": [
    "#The total size of files in the given dataset path\n",
    "total_size = 0\n",
    "for file in dataset_path:\n",
    "    if os.path.isfile(file):\n",
    "        total_size += os.path.getsize(file)\n",
    "print(\"Total size of files: {:.2f} GB\".format(total_size/(1024*1024*1024)))"
   ]
  },
  {
   "cell_type": "code",
   "execution_count": null,
   "metadata": {},
   "outputs": [],
   "source": [
    "#Reading and Parsing Metadata Information from MillionSongSubset Dataset\n",
    "dataset_path = '/opt/workspace/data/MillionSongSubset/*/*/*/*.h5'\n",
    "# creating an empty list to hold metadata information from all files\n",
    "metadata_rows = []\n",
    "# loop through each file in the dataset path\n",
    "for file_path in glob.glob(dataset_path):\n",
    "    with h5py.File(file_path, 'r') as f:\n",
    "        metadata = f['/metadata/songs']\n",
    "        column_names = list(metadata.dtype.names)\n",
    "        metadata_dict = {}\n",
    "        for column_name in column_names:\n",
    "            metadata_dict[column_name] = metadata[column_name][0]\n",
    "        metadata_rows.append(metadata_dict)\n",
    "metadata_df = pd.DataFrame(metadata_rows)\n",
    "metadata_df.head()"
   ]
  },
  {
   "cell_type": "code",
   "execution_count": null,
   "metadata": {},
   "outputs": [],
   "source": [
    "# sort the DataFrame by hotttnesss in descending order and print the top 10 rows\n",
    "df = df.sort_values(by=['Song Hotttnesss'], ascending=False)\n",
    "df.head(10)"
   ]
  },
  {
   "cell_type": "code",
   "execution_count": null,
   "metadata": {},
   "outputs": [],
   "source": [
    "\"\"\"\n",
    "Types of the genre:\n",
    "b: Blues\n",
    "c: Classical\n",
    "e: Electronic\n",
    "f: Electronic\n",
    "j: Jazz\n",
    "m: Metal\n",
    "p: Pop\n",
    "r: Hip-hop/Rap\n",
    "s: Soul/R&B\n",
    "r: Rock\n",
    "\"\"\"\n",
    "print(metadata_df['genre'])\n",
    "unique_genres = metadata_df['genre'].unique()\n",
    "print(unique_genres)"
   ]
  },
  {
   "cell_type": "code",
   "execution_count": null,
   "metadata": {},
   "outputs": [],
   "source": [
    "# Define the path to the dataset\n",
    "dataset_path = '/opt/workspace/data/MillionSongSubset/*/*/*/*.h5'\n",
    "\n",
    "# Create an empty list to store rows of data\n",
    "table_rows = []\n",
    "\n",
    "# Loop through each file in the dataset\n",
    "for file_path in glob.glob(dataset_path):\n",
    "    # Extract song_hotttnesss, year, song_id, genre, and title\n",
    "    with h5py.File(file_path, 'r') as f:\n",
    "        song_hotttnesss = f['/metadata/songs']['song_hotttnesss'][:]\n",
    "        song_id = f['/metadata/songs']['song_id'][:]\n",
    "        genre = f['/metadata/songs']['genre'][:]\n",
    "        title = f['/metadata/songs']['title'][:]\n",
    "        year = f['/musicbrainz/songs']['year'][:]\n",
    "        \n",
    "        # Loop through each song and add its information to the list of rows\n",
    "        for i in range(len(song_hotttnesss)):\n",
    "            # Check if song_hotttnesss and year exist for the current song\n",
    "            if not np.isnan(song_hotttnesss[i]) and year[i]:\n",
    "                # If year is 0, replace with \"N/A\"\n",
    "                if year[i] == 0:\n",
    "                    year_str = \"N/A\"\n",
    "                else:\n",
    "                    year_str = str(year[i])\n",
    "                table_rows.append([song_id[i], title[i].decode(\"utf-8\"), song_hotttnesss[i], year_str, genre[i]])\n",
    "                \n",
    "# Sort the list of rows by song_hotttnesss in descending order\n",
    "table_rows.sort(key=lambda x: x[2], reverse=True)\n",
    "\n",
    "# Convert the list of rows to a pandas DataFrame\n",
    "df = pd.DataFrame(table_rows, columns=['Song ID', 'Song Name', 'Song Hotttnesss', 'Year', 'Genre'])\n",
    "\n",
    "# Convert the 'Year' column to numeric type\n",
    "df['Year'] = pd.to_numeric(df['Year'], errors='coerce')\n",
    "\n",
    "# Create a bar chart of the maximum song_hotttnesss by year\n",
    "fig, ax = plt.subplots(figsize=(10, 5))\n",
    "max_hotttnesss = df.groupby('Year')['Song Hotttnesss'].max()\n",
    "max_hotttnesss.plot(kind='bar', ax=ax)\n",
    "ax.set_xlabel('Year')\n",
    "ax.set_ylabel('Song Hotttnesss')\n",
    "ax.set_ylim([0, 1])\n",
    "plt.show()\n"
   ]
  },
  {
   "cell_type": "code",
   "execution_count": null,
   "metadata": {},
   "outputs": [],
   "source": [
    "df = df.sort_values(by=['Song Hotttnesss'], ascending=False)\n",
    "df.head(10)"
   ]
  },
  {
   "cell_type": "code",
   "execution_count": null,
   "metadata": {},
   "outputs": [],
   "source": [
    "import h5py\n",
    "import glob\n",
    "import pandas as pd\n",
    "import numpy as np\n",
    "import matplotlib.pyplot as plt\n",
    "\n",
    "# set path to MillionSongSubset dataset\n",
    "dataset_path = '/opt/workspace/data/MillionSongSubset/*/*/*/*.h5'\n",
    "\n",
    "# extract song metadata and year information\n",
    "table_rows = []\n",
    "for file_path in glob.glob(dataset_path):\n",
    "    with h5py.File(file_path, 'r') as f:\n",
    "        song_hotttnesss = f['/metadata/songs']['song_hotttnesss'][:]\n",
    "        song_id = f['/metadata/songs']['song_id'][:]\n",
    "        genre = f['/metadata/songs']['genre'][:]\n",
    "        year = f['/musicbrainz/songs']['year'][:]\n",
    "        \n",
    "        for i in range(len(song_hotttnesss)):\n",
    "            if not np.isnan(song_hotttnesss[i]) and year[i]:\n",
    "                if year[i] == 0:\n",
    "                    year_str = \"N/A\"\n",
    "                else:\n",
    "                    year_str = str(year[i])\n",
    "                table_rows.append([song_id[i], song_hotttnesss[i], year_str, genre[i]])\n",
    "                \n",
    "# sort songs by hotttnesss in descending order\n",
    "table_rows.sort(key=lambda x: x[1], reverse=True)\n",
    "\n",
    "# create dataframe from song metadata and year information\n",
    "df = pd.DataFrame(table_rows, columns=['Song ID', 'Song Hotttnesss', 'Year', 'Genre'])\n",
    "df['Year'] = pd.to_numeric(df['Year'], errors='coerce')\n",
    "\n",
    "# count the number of popular songs by year\n",
    "popularity_by_year = df[df['Song Hotttnesss'] >= 0.5].groupby('Year').size()\n",
    "\n",
    "# create bar chart of the number of popular songs by year\n",
    "fig, ax = plt.subplots(figsize=(10, 5))\n",
    "popularity_by_year.plot(kind='bar', ax=ax)\n",
    "ax.set_xlabel('Year')\n",
    "ax.set_ylabel('Number of Popular Songs')\n",
    "ax.set_title('Trend in Popularity of Songs over Time')\n",
    "plt.show()\n"
   ]
  },
  {
   "cell_type": "code",
   "execution_count": null,
   "metadata": {},
   "outputs": [],
   "source": []
  },
  {
   "cell_type": "code",
   "execution_count": null,
   "metadata": {},
   "outputs": [],
   "source": []
  },
  {
   "cell_type": "code",
   "execution_count": null,
   "metadata": {},
   "outputs": [],
   "source": []
  },
  {
   "cell_type": "code",
   "execution_count": null,
   "metadata": {},
   "outputs": [],
   "source": []
  }
 ],
 "metadata": {
  "language_info": {
   "name": "python"
  },
  "orig_nbformat": 4
 },
 "nbformat": 4,
 "nbformat_minor": 2
}
