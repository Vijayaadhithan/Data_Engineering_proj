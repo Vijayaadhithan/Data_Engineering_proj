{
 "cells": [
  {
   "cell_type": "code",
   "execution_count": 1,
   "id": "80bbfb18",
   "metadata": {},
   "outputs": [],
   "source": [
    "import pandas as pd \n",
    "import numpy as nm\n",
    "import sys\n",
    "import h5py"
   ]
  },
  {
   "cell_type": "code",
   "execution_count": 2,
   "id": "3462b5b5",
   "metadata": {},
   "outputs": [],
   "source": [
    "#import tables as HDF5"
   ]
  },
  {
   "cell_type": "code",
   "execution_count": 3,
   "id": "dc942260",
   "metadata": {},
   "outputs": [
    {
     "name": "stdout",
     "output_type": "stream",
     "text": [
      "need pg module and MBrainzDB folder of Python source code if you\n",
      "want to use musicbrainz related functions, e.g. fill_hdf5_from_musicbrainz\n"
     ]
    }
   ],
   "source": [
    "import hdf5_utils as HDF5\n",
    "import hdf5_getters as g\n",
    "#h5 = h5py.File('TRAXLZU12903D05F94.h5', 'r')"
   ]
  },
  {
   "cell_type": "markdown",
   "id": "118485e1",
   "metadata": {},
   "source": [
    "import tables as HDF5 - can be used instead of \"import hdf5_getters as g\" and \"import hdf5_utils as HDF5\""
   ]
  },
  {
   "cell_type": "code",
   "execution_count": 4,
   "id": "cecf1faa",
   "metadata": {},
   "outputs": [
    {
     "data": {
      "text/plain": [
       "<filter at 0x7fca87798220>"
      ]
     },
     "execution_count": 4,
     "metadata": {},
     "output_type": "execute_result"
    }
   ],
   "source": [
    "filter(lambda x: x[:3] == 'get',HDF5.__dict__.keys())"
   ]
  },
  {
   "cell_type": "code",
   "execution_count": 5,
   "id": "290c0720",
   "metadata": {},
   "outputs": [],
   "source": [
    "import glob\n",
    "files = glob.glob('/Users/vijayaadhithan/Desktop/MillionSongSubset/*/*/*/*.h5')"
   ]
  },
  {
   "cell_type": "code",
   "execution_count": 6,
   "id": "27ec6864",
   "metadata": {},
   "outputs": [
    {
     "data": {
      "text/plain": [
       "10000"
      ]
     },
     "execution_count": 6,
     "metadata": {},
     "output_type": "execute_result"
    }
   ],
   "source": [
    "len(files)"
   ]
  },
  {
   "cell_type": "code",
   "execution_count": 7,
   "id": "d936673e",
   "metadata": {},
   "outputs": [
    {
     "name": "stdout",
     "output_type": "stream",
     "text": [
      "CPU times: user 3 µs, sys: 1 µs, total: 4 µs\n",
      "Wall time: 9.06 µs\n"
     ]
    }
   ],
   "source": [
    "artist_names = []\n",
    "artist_familiarity = []\n",
    "artist_hotttnesss = []\n",
    "artist_id = []\n",
    "artist_latitude = []\n",
    "artist_longitude = []\n",
    "artist_location = []\n",
    "song_id = []\n",
    "%time\n",
    "for f in files:\n",
    "    \n",
    "    h5 = h5py.File(f, 'r')\n",
    "    \n",
    "    artist_name = h5['metadata']['songs']['artist_name'][0].decode('utf-8')\n",
    "    artist_familiar = h5['metadata']['songs']['artist_familiarity'][0]\n",
    "    artist_hot = h5['metadata']['songs']['artist_hotttnesss'][0]\n",
    "    artist_ids = h5['metadata']['songs']['artist_id'][0]\n",
    "    artist_lat = h5['metadata']['songs']['artist_latitude'][0]\n",
    "    artist_long = h5['metadata']['songs']['artist_longitude'][0]\n",
    "    artist_loc = h5['metadata']['songs']['artist_location'][0].decode('utf-8')\n",
    "    song_idss = h5['metadata']['songs']['song_id'][0].decode('utf-8')\n",
    "    \n",
    "    artist_names.append(artist_name)\n",
    "    artist_familiarity.append(artist_familiar)\n",
    "    artist_hotttnesss.append(artist_hot)\n",
    "    artist_id.append(artist_ids)\n",
    "    artist_latitude.append(artist_lat)\n",
    "    artist_longitude.append(artist_long)\n",
    "    artist_location.append(artist_loc)\n",
    "    song_id.append(song_idss)\n",
    "    \n",
    "    h5.close()\n"
   ]
  },
  {
   "cell_type": "code",
   "execution_count": 8,
   "id": "136a325b",
   "metadata": {},
   "outputs": [],
   "source": [
    "data_artist = {'song_id':song_id\n",
    "        ,'artist_names':artist_names\n",
    "        ,'artist_familiarty':artist_familiarity\n",
    "        ,'artist_hotness':artist_hotttnesss\n",
    "        ,'artist_latitude':artist_latitude\n",
    "        ,'artist_longitude':artist_longitude\n",
    "        ,'artist_location':artist_location\n",
    "        ,'artist_id':artist_id\n",
    "       }"
   ]
  },
  {
   "cell_type": "code",
   "execution_count": 9,
   "id": "f54523a8",
   "metadata": {},
   "outputs": [],
   "source": [
    "artist_df=pd.DataFrame(data_artist)"
   ]
  },
  {
   "cell_type": "code",
   "execution_count": 10,
   "id": "e55e59ae",
   "metadata": {},
   "outputs": [
    {
     "data": {
      "text/plain": [
       "10000"
      ]
     },
     "execution_count": 10,
     "metadata": {},
     "output_type": "execute_result"
    }
   ],
   "source": [
    "len(artist_df)"
   ]
  },
  {
   "cell_type": "code",
   "execution_count": 11,
   "id": "e5fc6561",
   "metadata": {},
   "outputs": [
    {
     "data": {
      "text/html": [
       "<div>\n",
       "<style scoped>\n",
       "    .dataframe tbody tr th:only-of-type {\n",
       "        vertical-align: middle;\n",
       "    }\n",
       "\n",
       "    .dataframe tbody tr th {\n",
       "        vertical-align: top;\n",
       "    }\n",
       "\n",
       "    .dataframe thead th {\n",
       "        text-align: right;\n",
       "    }\n",
       "</style>\n",
       "<table border=\"1\" class=\"dataframe\">\n",
       "  <thead>\n",
       "    <tr style=\"text-align: right;\">\n",
       "      <th></th>\n",
       "      <th>song_id</th>\n",
       "      <th>artist_names</th>\n",
       "      <th>artist_familiarty</th>\n",
       "      <th>artist_hotness</th>\n",
       "      <th>artist_latitude</th>\n",
       "      <th>artist_longitude</th>\n",
       "      <th>artist_location</th>\n",
       "      <th>artist_id</th>\n",
       "    </tr>\n",
       "  </thead>\n",
       "  <tbody>\n",
       "    <tr>\n",
       "      <th>0</th>\n",
       "      <td>SOGSMXL12A81C23D88</td>\n",
       "      <td>Raphaël</td>\n",
       "      <td>0.557460</td>\n",
       "      <td>0.386152</td>\n",
       "      <td>46.71067</td>\n",
       "      <td>1.71819</td>\n",
       "      <td>France</td>\n",
       "      <td>b'AREJXK41187B9A4ACC'</td>\n",
       "    </tr>\n",
       "    <tr>\n",
       "      <th>1</th>\n",
       "      <td>SOMBCOW12AAF3B229F</td>\n",
       "      <td>Julie Zenatti</td>\n",
       "      <td>0.626958</td>\n",
       "      <td>0.434860</td>\n",
       "      <td>NaN</td>\n",
       "      <td>NaN</td>\n",
       "      <td></td>\n",
       "      <td>b'AR2XRFQ1187FB417FE'</td>\n",
       "    </tr>\n",
       "    <tr>\n",
       "      <th>2</th>\n",
       "      <td>SOEYIHF12AB017B5F4</td>\n",
       "      <td>The Baltimore Consort</td>\n",
       "      <td>0.425724</td>\n",
       "      <td>0.000000</td>\n",
       "      <td>NaN</td>\n",
       "      <td>NaN</td>\n",
       "      <td></td>\n",
       "      <td>b'ARODOO01187FB44F4A'</td>\n",
       "    </tr>\n",
       "    <tr>\n",
       "      <th>3</th>\n",
       "      <td>SODJYEC12A8C13D757</td>\n",
       "      <td>I Hate Sally</td>\n",
       "      <td>0.611495</td>\n",
       "      <td>0.334520</td>\n",
       "      <td>NaN</td>\n",
       "      <td>NaN</td>\n",
       "      <td></td>\n",
       "      <td>b'ARJGW911187FB586CA'</td>\n",
       "    </tr>\n",
       "    <tr>\n",
       "      <th>4</th>\n",
       "      <td>SOGSOUE12A58A76443</td>\n",
       "      <td>Orlando Pops Orchestra</td>\n",
       "      <td>0.367255</td>\n",
       "      <td>0.311616</td>\n",
       "      <td>NaN</td>\n",
       "      <td>NaN</td>\n",
       "      <td></td>\n",
       "      <td>b'AR9HQ6Y1187FB3C2CB'</td>\n",
       "    </tr>\n",
       "  </tbody>\n",
       "</table>\n",
       "</div>"
      ],
      "text/plain": [
       "              song_id            artist_names  artist_familiarty  \\\n",
       "0  SOGSMXL12A81C23D88                 Raphaël           0.557460   \n",
       "1  SOMBCOW12AAF3B229F           Julie Zenatti           0.626958   \n",
       "2  SOEYIHF12AB017B5F4   The Baltimore Consort           0.425724   \n",
       "3  SODJYEC12A8C13D757            I Hate Sally           0.611495   \n",
       "4  SOGSOUE12A58A76443  Orlando Pops Orchestra           0.367255   \n",
       "\n",
       "   artist_hotness  artist_latitude  artist_longitude artist_location  \\\n",
       "0        0.386152         46.71067           1.71819          France   \n",
       "1        0.434860              NaN               NaN                   \n",
       "2        0.000000              NaN               NaN                   \n",
       "3        0.334520              NaN               NaN                   \n",
       "4        0.311616              NaN               NaN                   \n",
       "\n",
       "               artist_id  \n",
       "0  b'AREJXK41187B9A4ACC'  \n",
       "1  b'AR2XRFQ1187FB417FE'  \n",
       "2  b'ARODOO01187FB44F4A'  \n",
       "3  b'ARJGW911187FB586CA'  \n",
       "4  b'AR9HQ6Y1187FB3C2CB'  "
      ]
     },
     "execution_count": 11,
     "metadata": {},
     "output_type": "execute_result"
    }
   ],
   "source": [
    "artist_df.head()"
   ]
  },
  {
   "cell_type": "code",
   "execution_count": 12,
   "id": "8b5e7563",
   "metadata": {},
   "outputs": [
    {
     "name": "stdout",
     "output_type": "stream",
     "text": [
      "CPU times: user 4 µs, sys: 1 µs, total: 5 µs\n",
      "Wall time: 8.82 µs\n"
     ]
    }
   ],
   "source": [
    "song_id = []\n",
    "song_titles =[]\n",
    "song_durations =[]\n",
    "song_release_years =[]\n",
    "song_hotness  =[]\n",
    "track_id =[]\n",
    "%time\n",
    "for f in files:\n",
    "    \n",
    "    h5 = h5py.File(f, 'r')\n",
    "    \n",
    "    song_idss = h5['metadata']['songs']['song_id'][0].decode('utf-8')\n",
    "    song_title = h5['metadata']['songs']['title'][0]\n",
    "    song_duration = h5['analysis']['songs']['duration'][0]\n",
    "    song_release_year = h5['musicbrainz']['songs']['year'][0]\n",
    "    song_hot = h5['metadata']['songs']['song_hotttnesss'][0]\n",
    "    track_idss = h5['analysis']['songs']['track_id'][0]\n",
    "    \n",
    "    song_id.append(song_idss)\n",
    "    song_titles.append(song_title)\n",
    "    song_durations.append(song_duration)\n",
    "    song_release_years.append(song_release_year)\n",
    "    song_hotness.append(song_hot)\n",
    "    track_id.append(track_idss)\n",
    "    \n",
    "    h5.close()\n"
   ]
  },
  {
   "cell_type": "code",
   "execution_count": 13,
   "id": "ceec6091",
   "metadata": {},
   "outputs": [],
   "source": [
    "data_song = {'song_id':song_id\n",
    "        ,'track_id':track_id\n",
    "        ,'song_titles':song_titles\n",
    "        ,'song_durations':song_durations\n",
    "        ,'song_release_years':song_release_year\n",
    "        ,'song_hotness':song_hotness\n",
    "       }"
   ]
  },
  {
   "cell_type": "code",
   "execution_count": 14,
   "id": "fe9a0e09",
   "metadata": {},
   "outputs": [],
   "source": [
    "song_df=pd.DataFrame(data_song)"
   ]
  },
  {
   "cell_type": "code",
   "execution_count": 15,
   "id": "c40b7e7c",
   "metadata": {},
   "outputs": [
    {
     "data": {
      "text/plain": [
       "10000"
      ]
     },
     "execution_count": 15,
     "metadata": {},
     "output_type": "execute_result"
    }
   ],
   "source": [
    "len(song_df)"
   ]
  },
  {
   "cell_type": "code",
   "execution_count": 16,
   "id": "809d99d6",
   "metadata": {},
   "outputs": [
    {
     "data": {
      "text/html": [
       "<div>\n",
       "<style scoped>\n",
       "    .dataframe tbody tr th:only-of-type {\n",
       "        vertical-align: middle;\n",
       "    }\n",
       "\n",
       "    .dataframe tbody tr th {\n",
       "        vertical-align: top;\n",
       "    }\n",
       "\n",
       "    .dataframe thead th {\n",
       "        text-align: right;\n",
       "    }\n",
       "</style>\n",
       "<table border=\"1\" class=\"dataframe\">\n",
       "  <thead>\n",
       "    <tr style=\"text-align: right;\">\n",
       "      <th></th>\n",
       "      <th>song_id</th>\n",
       "      <th>track_id</th>\n",
       "      <th>song_titles</th>\n",
       "      <th>song_durations</th>\n",
       "      <th>song_release_years</th>\n",
       "      <th>song_hotness</th>\n",
       "    </tr>\n",
       "  </thead>\n",
       "  <tbody>\n",
       "    <tr>\n",
       "      <th>0</th>\n",
       "      <td>SOGSMXL12A81C23D88</td>\n",
       "      <td>b'TRARRZU128F4253CA2'</td>\n",
       "      <td>b'Je Sais Que La Terre Est Plate'</td>\n",
       "      <td>148.74077</td>\n",
       "      <td>0</td>\n",
       "      <td>0.547953</td>\n",
       "    </tr>\n",
       "    <tr>\n",
       "      <th>1</th>\n",
       "      <td>SOMBCOW12AAF3B229F</td>\n",
       "      <td>b'TRARRJL128F92DED0E'</td>\n",
       "      <td>b'On Efface'</td>\n",
       "      <td>252.99546</td>\n",
       "      <td>0</td>\n",
       "      <td>0.475638</td>\n",
       "    </tr>\n",
       "    <tr>\n",
       "      <th>2</th>\n",
       "      <td>SOEYIHF12AB017B5F4</td>\n",
       "      <td>b'TRARRUZ128F9307C57'</td>\n",
       "      <td>b'Howells Delight'</td>\n",
       "      <td>78.02730</td>\n",
       "      <td>0</td>\n",
       "      <td>NaN</td>\n",
       "    </tr>\n",
       "    <tr>\n",
       "      <th>3</th>\n",
       "      <td>SODJYEC12A8C13D757</td>\n",
       "      <td>b'TRARRWA128F42A0195'</td>\n",
       "      <td>b'Martha Served'</td>\n",
       "      <td>163.63057</td>\n",
       "      <td>0</td>\n",
       "      <td>NaN</td>\n",
       "    </tr>\n",
       "    <tr>\n",
       "      <th>4</th>\n",
       "      <td>SOGSOUE12A58A76443</td>\n",
       "      <td>b'TRARRPG12903CD1DE9'</td>\n",
       "      <td>b'Zip-A-Dee-Doo-Dah (Song of the South)'</td>\n",
       "      <td>199.99302</td>\n",
       "      <td>0</td>\n",
       "      <td>NaN</td>\n",
       "    </tr>\n",
       "  </tbody>\n",
       "</table>\n",
       "</div>"
      ],
      "text/plain": [
       "              song_id               track_id  \\\n",
       "0  SOGSMXL12A81C23D88  b'TRARRZU128F4253CA2'   \n",
       "1  SOMBCOW12AAF3B229F  b'TRARRJL128F92DED0E'   \n",
       "2  SOEYIHF12AB017B5F4  b'TRARRUZ128F9307C57'   \n",
       "3  SODJYEC12A8C13D757  b'TRARRWA128F42A0195'   \n",
       "4  SOGSOUE12A58A76443  b'TRARRPG12903CD1DE9'   \n",
       "\n",
       "                                song_titles  song_durations  \\\n",
       "0         b'Je Sais Que La Terre Est Plate'       148.74077   \n",
       "1                              b'On Efface'       252.99546   \n",
       "2                        b'Howells Delight'        78.02730   \n",
       "3                          b'Martha Served'       163.63057   \n",
       "4  b'Zip-A-Dee-Doo-Dah (Song of the South)'       199.99302   \n",
       "\n",
       "   song_release_years  song_hotness  \n",
       "0                   0      0.547953  \n",
       "1                   0      0.475638  \n",
       "2                   0           NaN  \n",
       "3                   0           NaN  \n",
       "4                   0           NaN  "
      ]
     },
     "execution_count": 16,
     "metadata": {},
     "output_type": "execute_result"
    }
   ],
   "source": [
    "song_df.head()"
   ]
  },
  {
   "cell_type": "code",
   "execution_count": 17,
   "id": "4d89673a",
   "metadata": {},
   "outputs": [
    {
     "name": "stdout",
     "output_type": "stream",
     "text": [
      "CPU times: user 5 µs, sys: 3 µs, total: 8 µs\n",
      "Wall time: 12.9 µs\n"
     ]
    }
   ],
   "source": [
    "song_tempo = []\n",
    "song_bars =[]\n",
    "song_beats = []\n",
    "song_time_signatures =[]\n",
    "song_tatum =[]\n",
    "song_modes=[]\n",
    "song_keys=[]\n",
    "song_id = []\n",
    "\n",
    "%time\n",
    "for f in files:\n",
    "    \n",
    "    h5 = h5py.File(f, 'r')\n",
    "    \n",
    "    song_speed = h5['analysis']['songs']['tempo'][0]\n",
    "    song_bar = h5['analysis']['bars_start'][()]\n",
    "    song_beat = h5['analysis']['beats_start'][()]\n",
    "    song_time_signature = h5['analysis']['songs']['time_signature'][0]\n",
    "    song_tat = h5['analysis']['tatums_start'][()]\n",
    "    song_mode = h5['analysis']['songs']['mode'][0]\n",
    "    song_key = h5['analysis']['songs']['key'][0]\n",
    "    song_idss = h5['metadata']['songs']['song_id'][0].decode('utf-8')\n",
    "    \n",
    "    song_tempo.append(song_speed)\n",
    "    song_bars.append(song_bar)\n",
    "    song_beats.append(song_beat)\n",
    "    song_time_signatures.append(song_time_signature)\n",
    "    song_tatum.append(song_tat)\n",
    "    song_modes.append(song_mode)\n",
    "    song_keys.append(song_key)\n",
    "    song_id.append(song_idss)\n",
    "    \n",
    "    h5.close()\n"
   ]
  },
  {
   "cell_type": "code",
   "execution_count": 18,
   "id": "0509a45f",
   "metadata": {},
   "outputs": [],
   "source": [
    "data_song_more = {'song_id':song_id\n",
    "        ,'song_tempo':song_tempo\n",
    "        ,'song_bars':song_bars\n",
    "        ,'song_beats':song_beats\n",
    "        ,'song_time_signatures':song_time_signatures\n",
    "        ,'song_tatum':song_tatum\n",
    "        ,'song_modes':song_modes\n",
    "        ,'song_keys':song_keys\n",
    "       }"
   ]
  },
  {
   "cell_type": "code",
   "execution_count": 19,
   "id": "ac58fd7c",
   "metadata": {},
   "outputs": [],
   "source": [
    "song_more_df=pd.DataFrame(data_song_more)"
   ]
  },
  {
   "cell_type": "code",
   "execution_count": 20,
   "id": "fd71b273",
   "metadata": {},
   "outputs": [
    {
     "data": {
      "text/plain": [
       "10000"
      ]
     },
     "execution_count": 20,
     "metadata": {},
     "output_type": "execute_result"
    }
   ],
   "source": [
    "len(song_more_df)"
   ]
  },
  {
   "cell_type": "code",
   "execution_count": 21,
   "id": "935a0110",
   "metadata": {},
   "outputs": [
    {
     "data": {
      "text/html": [
       "<div>\n",
       "<style scoped>\n",
       "    .dataframe tbody tr th:only-of-type {\n",
       "        vertical-align: middle;\n",
       "    }\n",
       "\n",
       "    .dataframe tbody tr th {\n",
       "        vertical-align: top;\n",
       "    }\n",
       "\n",
       "    .dataframe thead th {\n",
       "        text-align: right;\n",
       "    }\n",
       "</style>\n",
       "<table border=\"1\" class=\"dataframe\">\n",
       "  <thead>\n",
       "    <tr style=\"text-align: right;\">\n",
       "      <th></th>\n",
       "      <th>song_id</th>\n",
       "      <th>song_tempo</th>\n",
       "      <th>song_bars</th>\n",
       "      <th>song_beats</th>\n",
       "      <th>song_time_signatures</th>\n",
       "      <th>song_tatum</th>\n",
       "      <th>song_modes</th>\n",
       "      <th>song_keys</th>\n",
       "    </tr>\n",
       "  </thead>\n",
       "  <tbody>\n",
       "    <tr>\n",
       "      <th>0</th>\n",
       "      <td>SOGSMXL12A81C23D88</td>\n",
       "      <td>124.059</td>\n",
       "      <td>[0.52458, 2.4444, 4.3658, 6.30006, 8.22086, 10...</td>\n",
       "      <td>[0.04257, 0.52458, 1.00659, 1.48632, 1.96605, ...</td>\n",
       "      <td>4</td>\n",
       "      <td>[0.04257, 0.28357, 0.52458, 0.76558, 1.00659, ...</td>\n",
       "      <td>1</td>\n",
       "      <td>0</td>\n",
       "    </tr>\n",
       "    <tr>\n",
       "      <th>1</th>\n",
       "      <td>SOMBCOW12AAF3B229F</td>\n",
       "      <td>80.084</td>\n",
       "      <td>[8.69527, 12.01758, 14.81363, 20.09003, 22.693...</td>\n",
       "      <td>[0.59161, 1.33555, 2.07949, 2.82093, 3.56238, ...</td>\n",
       "      <td>4</td>\n",
       "      <td>[0.59161, 0.84042, 1.08799, 1.33555, 1.58436, ...</td>\n",
       "      <td>0</td>\n",
       "      <td>1</td>\n",
       "    </tr>\n",
       "    <tr>\n",
       "      <th>2</th>\n",
       "      <td>SOEYIHF12AB017B5F4</td>\n",
       "      <td>54.874</td>\n",
       "      <td>[1.95344, 6.35701, 10.70579, 15.07913, 19.4832...</td>\n",
       "      <td>[1.95344, 3.0622, 4.16548, 5.26467, 6.35701, 7...</td>\n",
       "      <td>4</td>\n",
       "      <td>[1.11537, 1.39701, 1.67864, 1.95344, 2.23097, ...</td>\n",
       "      <td>1</td>\n",
       "      <td>3</td>\n",
       "    </tr>\n",
       "    <tr>\n",
       "      <th>3</th>\n",
       "      <td>SODJYEC12A8C13D757</td>\n",
       "      <td>77.150</td>\n",
       "      <td>[0.39309, 2.75109, 5.13649, 7.52978, 9.95582, ...</td>\n",
       "      <td>[0.39309, 1.17222, 1.95902, 2.75109, 3.55236, ...</td>\n",
       "      <td>3</td>\n",
       "      <td>[0.11929, 0.39309, 0.65603, 0.91083, 1.17222, ...</td>\n",
       "      <td>1</td>\n",
       "      <td>7</td>\n",
       "    </tr>\n",
       "    <tr>\n",
       "      <th>4</th>\n",
       "      <td>SOGSOUE12A58A76443</td>\n",
       "      <td>120.382</td>\n",
       "      <td>[0.99301, 2.99441, 4.96889, 6.9402, 8.92127, 1...</td>\n",
       "      <td>[0.49266, 0.99301, 1.49336, 1.99371, 2.49406, ...</td>\n",
       "      <td>4</td>\n",
       "      <td>[0.24248, 0.49266, 0.74283, 0.99301, 1.24318, ...</td>\n",
       "      <td>1</td>\n",
       "      <td>10</td>\n",
       "    </tr>\n",
       "  </tbody>\n",
       "</table>\n",
       "</div>"
      ],
      "text/plain": [
       "              song_id  song_tempo  \\\n",
       "0  SOGSMXL12A81C23D88     124.059   \n",
       "1  SOMBCOW12AAF3B229F      80.084   \n",
       "2  SOEYIHF12AB017B5F4      54.874   \n",
       "3  SODJYEC12A8C13D757      77.150   \n",
       "4  SOGSOUE12A58A76443     120.382   \n",
       "\n",
       "                                           song_bars  \\\n",
       "0  [0.52458, 2.4444, 4.3658, 6.30006, 8.22086, 10...   \n",
       "1  [8.69527, 12.01758, 14.81363, 20.09003, 22.693...   \n",
       "2  [1.95344, 6.35701, 10.70579, 15.07913, 19.4832...   \n",
       "3  [0.39309, 2.75109, 5.13649, 7.52978, 9.95582, ...   \n",
       "4  [0.99301, 2.99441, 4.96889, 6.9402, 8.92127, 1...   \n",
       "\n",
       "                                          song_beats  song_time_signatures  \\\n",
       "0  [0.04257, 0.52458, 1.00659, 1.48632, 1.96605, ...                     4   \n",
       "1  [0.59161, 1.33555, 2.07949, 2.82093, 3.56238, ...                     4   \n",
       "2  [1.95344, 3.0622, 4.16548, 5.26467, 6.35701, 7...                     4   \n",
       "3  [0.39309, 1.17222, 1.95902, 2.75109, 3.55236, ...                     3   \n",
       "4  [0.49266, 0.99301, 1.49336, 1.99371, 2.49406, ...                     4   \n",
       "\n",
       "                                          song_tatum  song_modes  song_keys  \n",
       "0  [0.04257, 0.28357, 0.52458, 0.76558, 1.00659, ...           1          0  \n",
       "1  [0.59161, 0.84042, 1.08799, 1.33555, 1.58436, ...           0          1  \n",
       "2  [1.11537, 1.39701, 1.67864, 1.95344, 2.23097, ...           1          3  \n",
       "3  [0.11929, 0.39309, 0.65603, 0.91083, 1.17222, ...           1          7  \n",
       "4  [0.24248, 0.49266, 0.74283, 0.99301, 1.24318, ...           1         10  "
      ]
     },
     "execution_count": 21,
     "metadata": {},
     "output_type": "execute_result"
    }
   ],
   "source": [
    "song_more_df.head()"
   ]
  },
  {
   "cell_type": "code",
   "execution_count": 22,
   "id": "cf3273ca",
   "metadata": {},
   "outputs": [],
   "source": [
    "all_song_df = song_df.merge(song_more_df, on='song_id')"
   ]
  },
  {
   "cell_type": "code",
   "execution_count": 23,
   "id": "8f719674",
   "metadata": {},
   "outputs": [
    {
     "data": {
      "text/plain": [
       "10000"
      ]
     },
     "execution_count": 23,
     "metadata": {},
     "output_type": "execute_result"
    }
   ],
   "source": [
    "len(all_song_df)"
   ]
  },
  {
   "cell_type": "code",
   "execution_count": 24,
   "id": "01c17e5c",
   "metadata": {},
   "outputs": [
    {
     "data": {
      "text/html": [
       "<div>\n",
       "<style scoped>\n",
       "    .dataframe tbody tr th:only-of-type {\n",
       "        vertical-align: middle;\n",
       "    }\n",
       "\n",
       "    .dataframe tbody tr th {\n",
       "        vertical-align: top;\n",
       "    }\n",
       "\n",
       "    .dataframe thead th {\n",
       "        text-align: right;\n",
       "    }\n",
       "</style>\n",
       "<table border=\"1\" class=\"dataframe\">\n",
       "  <thead>\n",
       "    <tr style=\"text-align: right;\">\n",
       "      <th></th>\n",
       "      <th>song_id</th>\n",
       "      <th>track_id</th>\n",
       "      <th>song_titles</th>\n",
       "      <th>song_durations</th>\n",
       "      <th>song_release_years</th>\n",
       "      <th>song_hotness</th>\n",
       "      <th>song_tempo</th>\n",
       "      <th>song_bars</th>\n",
       "      <th>song_beats</th>\n",
       "      <th>song_time_signatures</th>\n",
       "      <th>song_tatum</th>\n",
       "      <th>song_modes</th>\n",
       "      <th>song_keys</th>\n",
       "    </tr>\n",
       "  </thead>\n",
       "  <tbody>\n",
       "    <tr>\n",
       "      <th>0</th>\n",
       "      <td>SOGSMXL12A81C23D88</td>\n",
       "      <td>b'TRARRZU128F4253CA2'</td>\n",
       "      <td>b'Je Sais Que La Terre Est Plate'</td>\n",
       "      <td>148.74077</td>\n",
       "      <td>0</td>\n",
       "      <td>0.547953</td>\n",
       "      <td>124.059</td>\n",
       "      <td>[0.52458, 2.4444, 4.3658, 6.30006, 8.22086, 10...</td>\n",
       "      <td>[0.04257, 0.52458, 1.00659, 1.48632, 1.96605, ...</td>\n",
       "      <td>4</td>\n",
       "      <td>[0.04257, 0.28357, 0.52458, 0.76558, 1.00659, ...</td>\n",
       "      <td>1</td>\n",
       "      <td>0</td>\n",
       "    </tr>\n",
       "    <tr>\n",
       "      <th>1</th>\n",
       "      <td>SOMBCOW12AAF3B229F</td>\n",
       "      <td>b'TRARRJL128F92DED0E'</td>\n",
       "      <td>b'On Efface'</td>\n",
       "      <td>252.99546</td>\n",
       "      <td>0</td>\n",
       "      <td>0.475638</td>\n",
       "      <td>80.084</td>\n",
       "      <td>[8.69527, 12.01758, 14.81363, 20.09003, 22.693...</td>\n",
       "      <td>[0.59161, 1.33555, 2.07949, 2.82093, 3.56238, ...</td>\n",
       "      <td>4</td>\n",
       "      <td>[0.59161, 0.84042, 1.08799, 1.33555, 1.58436, ...</td>\n",
       "      <td>0</td>\n",
       "      <td>1</td>\n",
       "    </tr>\n",
       "    <tr>\n",
       "      <th>2</th>\n",
       "      <td>SOEYIHF12AB017B5F4</td>\n",
       "      <td>b'TRARRUZ128F9307C57'</td>\n",
       "      <td>b'Howells Delight'</td>\n",
       "      <td>78.02730</td>\n",
       "      <td>0</td>\n",
       "      <td>NaN</td>\n",
       "      <td>54.874</td>\n",
       "      <td>[1.95344, 6.35701, 10.70579, 15.07913, 19.4832...</td>\n",
       "      <td>[1.95344, 3.0622, 4.16548, 5.26467, 6.35701, 7...</td>\n",
       "      <td>4</td>\n",
       "      <td>[1.11537, 1.39701, 1.67864, 1.95344, 2.23097, ...</td>\n",
       "      <td>1</td>\n",
       "      <td>3</td>\n",
       "    </tr>\n",
       "    <tr>\n",
       "      <th>3</th>\n",
       "      <td>SODJYEC12A8C13D757</td>\n",
       "      <td>b'TRARRWA128F42A0195'</td>\n",
       "      <td>b'Martha Served'</td>\n",
       "      <td>163.63057</td>\n",
       "      <td>0</td>\n",
       "      <td>NaN</td>\n",
       "      <td>77.150</td>\n",
       "      <td>[0.39309, 2.75109, 5.13649, 7.52978, 9.95582, ...</td>\n",
       "      <td>[0.39309, 1.17222, 1.95902, 2.75109, 3.55236, ...</td>\n",
       "      <td>3</td>\n",
       "      <td>[0.11929, 0.39309, 0.65603, 0.91083, 1.17222, ...</td>\n",
       "      <td>1</td>\n",
       "      <td>7</td>\n",
       "    </tr>\n",
       "    <tr>\n",
       "      <th>4</th>\n",
       "      <td>SOGSOUE12A58A76443</td>\n",
       "      <td>b'TRARRPG12903CD1DE9'</td>\n",
       "      <td>b'Zip-A-Dee-Doo-Dah (Song of the South)'</td>\n",
       "      <td>199.99302</td>\n",
       "      <td>0</td>\n",
       "      <td>NaN</td>\n",
       "      <td>120.382</td>\n",
       "      <td>[0.99301, 2.99441, 4.96889, 6.9402, 8.92127, 1...</td>\n",
       "      <td>[0.49266, 0.99301, 1.49336, 1.99371, 2.49406, ...</td>\n",
       "      <td>4</td>\n",
       "      <td>[0.24248, 0.49266, 0.74283, 0.99301, 1.24318, ...</td>\n",
       "      <td>1</td>\n",
       "      <td>10</td>\n",
       "    </tr>\n",
       "  </tbody>\n",
       "</table>\n",
       "</div>"
      ],
      "text/plain": [
       "              song_id               track_id  \\\n",
       "0  SOGSMXL12A81C23D88  b'TRARRZU128F4253CA2'   \n",
       "1  SOMBCOW12AAF3B229F  b'TRARRJL128F92DED0E'   \n",
       "2  SOEYIHF12AB017B5F4  b'TRARRUZ128F9307C57'   \n",
       "3  SODJYEC12A8C13D757  b'TRARRWA128F42A0195'   \n",
       "4  SOGSOUE12A58A76443  b'TRARRPG12903CD1DE9'   \n",
       "\n",
       "                                song_titles  song_durations  \\\n",
       "0         b'Je Sais Que La Terre Est Plate'       148.74077   \n",
       "1                              b'On Efface'       252.99546   \n",
       "2                        b'Howells Delight'        78.02730   \n",
       "3                          b'Martha Served'       163.63057   \n",
       "4  b'Zip-A-Dee-Doo-Dah (Song of the South)'       199.99302   \n",
       "\n",
       "   song_release_years  song_hotness  song_tempo  \\\n",
       "0                   0      0.547953     124.059   \n",
       "1                   0      0.475638      80.084   \n",
       "2                   0           NaN      54.874   \n",
       "3                   0           NaN      77.150   \n",
       "4                   0           NaN     120.382   \n",
       "\n",
       "                                           song_bars  \\\n",
       "0  [0.52458, 2.4444, 4.3658, 6.30006, 8.22086, 10...   \n",
       "1  [8.69527, 12.01758, 14.81363, 20.09003, 22.693...   \n",
       "2  [1.95344, 6.35701, 10.70579, 15.07913, 19.4832...   \n",
       "3  [0.39309, 2.75109, 5.13649, 7.52978, 9.95582, ...   \n",
       "4  [0.99301, 2.99441, 4.96889, 6.9402, 8.92127, 1...   \n",
       "\n",
       "                                          song_beats  song_time_signatures  \\\n",
       "0  [0.04257, 0.52458, 1.00659, 1.48632, 1.96605, ...                     4   \n",
       "1  [0.59161, 1.33555, 2.07949, 2.82093, 3.56238, ...                     4   \n",
       "2  [1.95344, 3.0622, 4.16548, 5.26467, 6.35701, 7...                     4   \n",
       "3  [0.39309, 1.17222, 1.95902, 2.75109, 3.55236, ...                     3   \n",
       "4  [0.49266, 0.99301, 1.49336, 1.99371, 2.49406, ...                     4   \n",
       "\n",
       "                                          song_tatum  song_modes  song_keys  \n",
       "0  [0.04257, 0.28357, 0.52458, 0.76558, 1.00659, ...           1          0  \n",
       "1  [0.59161, 0.84042, 1.08799, 1.33555, 1.58436, ...           0          1  \n",
       "2  [1.11537, 1.39701, 1.67864, 1.95344, 2.23097, ...           1          3  \n",
       "3  [0.11929, 0.39309, 0.65603, 0.91083, 1.17222, ...           1          7  \n",
       "4  [0.24248, 0.49266, 0.74283, 0.99301, 1.24318, ...           1         10  "
      ]
     },
     "execution_count": 24,
     "metadata": {},
     "output_type": "execute_result"
    }
   ],
   "source": [
    "all_song_df.head()"
   ]
  },
  {
   "cell_type": "code",
   "execution_count": 25,
   "id": "768f5901",
   "metadata": {},
   "outputs": [],
   "source": [
    "data = artist_df.merge(all_song_df, on='song_id')"
   ]
  },
  {
   "cell_type": "code",
   "execution_count": 26,
   "id": "96d08b24",
   "metadata": {},
   "outputs": [
    {
     "data": {
      "text/plain": [
       "10000"
      ]
     },
     "execution_count": 26,
     "metadata": {},
     "output_type": "execute_result"
    }
   ],
   "source": [
    "len(data)"
   ]
  },
  {
   "cell_type": "code",
   "execution_count": 27,
   "id": "3ab1ea82",
   "metadata": {},
   "outputs": [
    {
     "data": {
      "text/html": [
       "<div>\n",
       "<style scoped>\n",
       "    .dataframe tbody tr th:only-of-type {\n",
       "        vertical-align: middle;\n",
       "    }\n",
       "\n",
       "    .dataframe tbody tr th {\n",
       "        vertical-align: top;\n",
       "    }\n",
       "\n",
       "    .dataframe thead th {\n",
       "        text-align: right;\n",
       "    }\n",
       "</style>\n",
       "<table border=\"1\" class=\"dataframe\">\n",
       "  <thead>\n",
       "    <tr style=\"text-align: right;\">\n",
       "      <th></th>\n",
       "      <th>song_id</th>\n",
       "      <th>artist_names</th>\n",
       "      <th>artist_familiarty</th>\n",
       "      <th>artist_hotness</th>\n",
       "      <th>artist_latitude</th>\n",
       "      <th>artist_longitude</th>\n",
       "      <th>artist_location</th>\n",
       "      <th>artist_id</th>\n",
       "      <th>track_id</th>\n",
       "      <th>song_titles</th>\n",
       "      <th>song_durations</th>\n",
       "      <th>song_release_years</th>\n",
       "      <th>song_hotness</th>\n",
       "      <th>song_tempo</th>\n",
       "      <th>song_bars</th>\n",
       "      <th>song_beats</th>\n",
       "      <th>song_time_signatures</th>\n",
       "      <th>song_tatum</th>\n",
       "      <th>song_modes</th>\n",
       "      <th>song_keys</th>\n",
       "    </tr>\n",
       "  </thead>\n",
       "  <tbody>\n",
       "    <tr>\n",
       "      <th>0</th>\n",
       "      <td>SOGSMXL12A81C23D88</td>\n",
       "      <td>Raphaël</td>\n",
       "      <td>0.557460</td>\n",
       "      <td>0.386152</td>\n",
       "      <td>46.71067</td>\n",
       "      <td>1.71819</td>\n",
       "      <td>France</td>\n",
       "      <td>b'AREJXK41187B9A4ACC'</td>\n",
       "      <td>b'TRARRZU128F4253CA2'</td>\n",
       "      <td>b'Je Sais Que La Terre Est Plate'</td>\n",
       "      <td>148.74077</td>\n",
       "      <td>0</td>\n",
       "      <td>0.547953</td>\n",
       "      <td>124.059</td>\n",
       "      <td>[0.52458, 2.4444, 4.3658, 6.30006, 8.22086, 10...</td>\n",
       "      <td>[0.04257, 0.52458, 1.00659, 1.48632, 1.96605, ...</td>\n",
       "      <td>4</td>\n",
       "      <td>[0.04257, 0.28357, 0.52458, 0.76558, 1.00659, ...</td>\n",
       "      <td>1</td>\n",
       "      <td>0</td>\n",
       "    </tr>\n",
       "    <tr>\n",
       "      <th>1</th>\n",
       "      <td>SOMBCOW12AAF3B229F</td>\n",
       "      <td>Julie Zenatti</td>\n",
       "      <td>0.626958</td>\n",
       "      <td>0.434860</td>\n",
       "      <td>NaN</td>\n",
       "      <td>NaN</td>\n",
       "      <td></td>\n",
       "      <td>b'AR2XRFQ1187FB417FE'</td>\n",
       "      <td>b'TRARRJL128F92DED0E'</td>\n",
       "      <td>b'On Efface'</td>\n",
       "      <td>252.99546</td>\n",
       "      <td>0</td>\n",
       "      <td>0.475638</td>\n",
       "      <td>80.084</td>\n",
       "      <td>[8.69527, 12.01758, 14.81363, 20.09003, 22.693...</td>\n",
       "      <td>[0.59161, 1.33555, 2.07949, 2.82093, 3.56238, ...</td>\n",
       "      <td>4</td>\n",
       "      <td>[0.59161, 0.84042, 1.08799, 1.33555, 1.58436, ...</td>\n",
       "      <td>0</td>\n",
       "      <td>1</td>\n",
       "    </tr>\n",
       "    <tr>\n",
       "      <th>2</th>\n",
       "      <td>SOEYIHF12AB017B5F4</td>\n",
       "      <td>The Baltimore Consort</td>\n",
       "      <td>0.425724</td>\n",
       "      <td>0.000000</td>\n",
       "      <td>NaN</td>\n",
       "      <td>NaN</td>\n",
       "      <td></td>\n",
       "      <td>b'ARODOO01187FB44F4A'</td>\n",
       "      <td>b'TRARRUZ128F9307C57'</td>\n",
       "      <td>b'Howells Delight'</td>\n",
       "      <td>78.02730</td>\n",
       "      <td>0</td>\n",
       "      <td>NaN</td>\n",
       "      <td>54.874</td>\n",
       "      <td>[1.95344, 6.35701, 10.70579, 15.07913, 19.4832...</td>\n",
       "      <td>[1.95344, 3.0622, 4.16548, 5.26467, 6.35701, 7...</td>\n",
       "      <td>4</td>\n",
       "      <td>[1.11537, 1.39701, 1.67864, 1.95344, 2.23097, ...</td>\n",
       "      <td>1</td>\n",
       "      <td>3</td>\n",
       "    </tr>\n",
       "    <tr>\n",
       "      <th>3</th>\n",
       "      <td>SODJYEC12A8C13D757</td>\n",
       "      <td>I Hate Sally</td>\n",
       "      <td>0.611495</td>\n",
       "      <td>0.334520</td>\n",
       "      <td>NaN</td>\n",
       "      <td>NaN</td>\n",
       "      <td></td>\n",
       "      <td>b'ARJGW911187FB586CA'</td>\n",
       "      <td>b'TRARRWA128F42A0195'</td>\n",
       "      <td>b'Martha Served'</td>\n",
       "      <td>163.63057</td>\n",
       "      <td>0</td>\n",
       "      <td>NaN</td>\n",
       "      <td>77.150</td>\n",
       "      <td>[0.39309, 2.75109, 5.13649, 7.52978, 9.95582, ...</td>\n",
       "      <td>[0.39309, 1.17222, 1.95902, 2.75109, 3.55236, ...</td>\n",
       "      <td>3</td>\n",
       "      <td>[0.11929, 0.39309, 0.65603, 0.91083, 1.17222, ...</td>\n",
       "      <td>1</td>\n",
       "      <td>7</td>\n",
       "    </tr>\n",
       "    <tr>\n",
       "      <th>4</th>\n",
       "      <td>SOGSOUE12A58A76443</td>\n",
       "      <td>Orlando Pops Orchestra</td>\n",
       "      <td>0.367255</td>\n",
       "      <td>0.311616</td>\n",
       "      <td>NaN</td>\n",
       "      <td>NaN</td>\n",
       "      <td></td>\n",
       "      <td>b'AR9HQ6Y1187FB3C2CB'</td>\n",
       "      <td>b'TRARRPG12903CD1DE9'</td>\n",
       "      <td>b'Zip-A-Dee-Doo-Dah (Song of the South)'</td>\n",
       "      <td>199.99302</td>\n",
       "      <td>0</td>\n",
       "      <td>NaN</td>\n",
       "      <td>120.382</td>\n",
       "      <td>[0.99301, 2.99441, 4.96889, 6.9402, 8.92127, 1...</td>\n",
       "      <td>[0.49266, 0.99301, 1.49336, 1.99371, 2.49406, ...</td>\n",
       "      <td>4</td>\n",
       "      <td>[0.24248, 0.49266, 0.74283, 0.99301, 1.24318, ...</td>\n",
       "      <td>1</td>\n",
       "      <td>10</td>\n",
       "    </tr>\n",
       "  </tbody>\n",
       "</table>\n",
       "</div>"
      ],
      "text/plain": [
       "              song_id            artist_names  artist_familiarty  \\\n",
       "0  SOGSMXL12A81C23D88                 Raphaël           0.557460   \n",
       "1  SOMBCOW12AAF3B229F           Julie Zenatti           0.626958   \n",
       "2  SOEYIHF12AB017B5F4   The Baltimore Consort           0.425724   \n",
       "3  SODJYEC12A8C13D757            I Hate Sally           0.611495   \n",
       "4  SOGSOUE12A58A76443  Orlando Pops Orchestra           0.367255   \n",
       "\n",
       "   artist_hotness  artist_latitude  artist_longitude artist_location  \\\n",
       "0        0.386152         46.71067           1.71819          France   \n",
       "1        0.434860              NaN               NaN                   \n",
       "2        0.000000              NaN               NaN                   \n",
       "3        0.334520              NaN               NaN                   \n",
       "4        0.311616              NaN               NaN                   \n",
       "\n",
       "               artist_id               track_id  \\\n",
       "0  b'AREJXK41187B9A4ACC'  b'TRARRZU128F4253CA2'   \n",
       "1  b'AR2XRFQ1187FB417FE'  b'TRARRJL128F92DED0E'   \n",
       "2  b'ARODOO01187FB44F4A'  b'TRARRUZ128F9307C57'   \n",
       "3  b'ARJGW911187FB586CA'  b'TRARRWA128F42A0195'   \n",
       "4  b'AR9HQ6Y1187FB3C2CB'  b'TRARRPG12903CD1DE9'   \n",
       "\n",
       "                                song_titles  song_durations  \\\n",
       "0         b'Je Sais Que La Terre Est Plate'       148.74077   \n",
       "1                              b'On Efface'       252.99546   \n",
       "2                        b'Howells Delight'        78.02730   \n",
       "3                          b'Martha Served'       163.63057   \n",
       "4  b'Zip-A-Dee-Doo-Dah (Song of the South)'       199.99302   \n",
       "\n",
       "   song_release_years  song_hotness  song_tempo  \\\n",
       "0                   0      0.547953     124.059   \n",
       "1                   0      0.475638      80.084   \n",
       "2                   0           NaN      54.874   \n",
       "3                   0           NaN      77.150   \n",
       "4                   0           NaN     120.382   \n",
       "\n",
       "                                           song_bars  \\\n",
       "0  [0.52458, 2.4444, 4.3658, 6.30006, 8.22086, 10...   \n",
       "1  [8.69527, 12.01758, 14.81363, 20.09003, 22.693...   \n",
       "2  [1.95344, 6.35701, 10.70579, 15.07913, 19.4832...   \n",
       "3  [0.39309, 2.75109, 5.13649, 7.52978, 9.95582, ...   \n",
       "4  [0.99301, 2.99441, 4.96889, 6.9402, 8.92127, 1...   \n",
       "\n",
       "                                          song_beats  song_time_signatures  \\\n",
       "0  [0.04257, 0.52458, 1.00659, 1.48632, 1.96605, ...                     4   \n",
       "1  [0.59161, 1.33555, 2.07949, 2.82093, 3.56238, ...                     4   \n",
       "2  [1.95344, 3.0622, 4.16548, 5.26467, 6.35701, 7...                     4   \n",
       "3  [0.39309, 1.17222, 1.95902, 2.75109, 3.55236, ...                     3   \n",
       "4  [0.49266, 0.99301, 1.49336, 1.99371, 2.49406, ...                     4   \n",
       "\n",
       "                                          song_tatum  song_modes  song_keys  \n",
       "0  [0.04257, 0.28357, 0.52458, 0.76558, 1.00659, ...           1          0  \n",
       "1  [0.59161, 0.84042, 1.08799, 1.33555, 1.58436, ...           0          1  \n",
       "2  [1.11537, 1.39701, 1.67864, 1.95344, 2.23097, ...           1          3  \n",
       "3  [0.11929, 0.39309, 0.65603, 0.91083, 1.17222, ...           1          7  \n",
       "4  [0.24248, 0.49266, 0.74283, 0.99301, 1.24318, ...           1         10  "
      ]
     },
     "execution_count": 27,
     "metadata": {},
     "output_type": "execute_result"
    }
   ],
   "source": [
    "data.head()"
   ]
  },
  {
   "cell_type": "code",
   "execution_count": 28,
   "id": "8c23ce48",
   "metadata": {},
   "outputs": [],
   "source": [
    "#data.to_csv('hdf5.csv', sep=',')"
   ]
  },
  {
   "cell_type": "code",
   "execution_count": null,
   "id": "210fe095",
   "metadata": {},
   "outputs": [],
   "source": []
  }
 ],
 "metadata": {
  "kernelspec": {
   "display_name": "Python 3 (ipykernel)",
   "language": "python",
   "name": "python3"
  },
  "language_info": {
   "codemirror_mode": {
    "name": "ipython",
    "version": 3
   },
   "file_extension": ".py",
   "mimetype": "text/x-python",
   "name": "python",
   "nbconvert_exporter": "python",
   "pygments_lexer": "ipython3",
   "version": "3.9.12"
  }
 },
 "nbformat": 4,
 "nbformat_minor": 5
}
