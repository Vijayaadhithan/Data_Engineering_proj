{
 "cells": [
  {
   "cell_type": "code",
   "execution_count": 7,
   "id": "c26c1e02",
   "metadata": {},
   "outputs": [],
   "source": [
    "import pandas as pd\n",
    "import h5py\n",
    "import numpy as np\n",
    "import glob\n",
    "import os\n",
    "import matplotlib.pyplot as plt"
   ]
  },
  {
   "cell_type": "code",
   "execution_count": 9,
   "id": "c79c1d7d",
   "metadata": {},
   "outputs": [
    {
     "data": {
      "text/plain": [
       "10000"
      ]
     },
     "execution_count": 9,
     "metadata": {},
     "output_type": "execute_result"
    }
   ],
   "source": [
    "dataset_path = glob.glob('/home/ubuntu/MillionSongSubset/*/*/*/*.h5')\n",
    "len(dataset_path)"
   ]
  },
  {
   "cell_type": "code",
   "execution_count": 10,
   "id": "91d85617",
   "metadata": {},
   "outputs": [
    {
     "name": "stdout",
     "output_type": "stream",
     "text": [
      "Total size of files: 2.52 GB\n"
     ]
    }
   ],
   "source": [
    "total_size = 0\n",
    "for file in dataset_path:\n",
    "    if os.path.isfile(file):\n",
    "        total_size += os.path.getsize(file)\n",
    "print(\"Total size of files: {:.2f} GB\".format(total_size/(1024*1024*1024)))"
   ]
  },
  {
   "cell_type": "code",
   "execution_count": 11,
   "id": "86d3119d",
   "metadata": {},
   "outputs": [
    {
     "name": "stdout",
     "output_type": "stream",
     "text": [
      "  analyzer_version  artist_7digitalid  artist_familiarity  artist_hotttnesss  \\\n",
      "0              b''                215            0.775600           0.434923   \n",
      "1              b''              80602            0.606193           0.407344   \n",
      "2              b''               6884            0.755041           0.458592   \n",
      "3              b''               2852            0.506127           0.350788   \n",
      "4              b''                983            0.741518           0.520412   \n",
      "\n",
      "               artist_id  artist_latitude               artist_location  \\\n",
      "0  b'AR19QNR1187B9A13C5'              NaN           b'Philadelphia, PA'   \n",
      "1  b'AR2MEUK1187B992D1B'              NaN                           b''   \n",
      "2  b'ARE0OLY1187B9AD19F'         40.79263     b'Whitestone, Queens, NY'   \n",
      "3  b'AR5GLIU1187FB4638A'              NaN                b'Memphis, TN'   \n",
      "4  b'AR1ZKBE1187FB53629'              NaN  b'D\\xef\\xbf\\xbdorf, Germany'   \n",
      "\n",
      "   artist_longitude                              artist_mbid  \\\n",
      "0               NaN  b'f7ebe5e2-c9fb-4959-a9b3-b09921168d50'   \n",
      "1               NaN  b'9946e322-2eb6-43dd-ae66-dd28114f1522'   \n",
      "2         -73.80817  b'db0fc330-1fa1-43f8-a33f-33eaf6a97d78'   \n",
      "3               NaN  b'a147eefb-0e07-432d-bd1f-8edf7679a7da'   \n",
      "4               NaN  b'5700dcd4-c139-4f31-aa3e-6382b9af9032'   \n",
      "\n",
      "                     artist_name  artist_playmeid genre  idx_artist_terms  \\\n",
      "0  b'Cassidy featuring R. Kelly'              303   b''                 0   \n",
      "1             b'Jeff Scott Soto'            59687   b''                 0   \n",
      "2                 b'Jesse Malin'               -1   b''                 0   \n",
      "3            b'Memphis Jug Band'            21159   b''                 0   \n",
      "4                   b'Kraftwerk'              881   b''                 0   \n",
      "\n",
      "   idx_similar_artists                                    release  \\\n",
      "0                    0                                   b'Hotel'   \n",
      "1                    0                 b'Lost In The Translation'   \n",
      "2                    0                          b'On Your Sleeve'   \n",
      "3                    0                   b'Move That Thing Vol 2'   \n",
      "4                    0  b'Tour De France (2009 Digital Remaster)'   \n",
      "\n",
      "   release_7digitalid  song_hotttnesss                song_id  \\\n",
      "0              303100              NaN  b'SOUDRIY12A8C13B59A'   \n",
      "1              103106              NaN  b'SOMCLSH12AF72A5CA4'   \n",
      "2              312553              NaN  b'SOFIEJM12A8C141ABD'   \n",
      "3              765209              NaN  b'SOAECCP12AB0186ADB'   \n",
      "4              608839         0.313562  b'SOCDLUF12A8C13F13F'   \n",
      "\n",
      "                                               title  track_7digitalid  \n",
      "0                                           b'Hotel'           3410734  \n",
      "1                              b'If This Is The End'           1063781  \n",
      "2                                         b'Harmony'           3524368  \n",
      "3                             b\"Spider's Nest Blues\"           8471053  \n",
      "4  b'Tour De France \\xc3\\x89tape 3 (2009 Digital ...           6764800  \n"
     ]
    }
   ],
   "source": [
    "dataset_path = '/home/ubuntu/MillionSongSubset/*/*/*/*.h5'\n",
    "metadata_rows = []\n",
    "for file_path in glob.glob(dataset_path):\n",
    "    with h5py.File(file_path, 'r') as f:\n",
    "        metadata = f['/metadata/songs']\n",
    "        column_names = list(metadata.dtype.names)\n",
    "        metadata_dict = {}\n",
    "        for column_name in column_names:\n",
    "            metadata_dict[column_name] = metadata[column_name][0]\n",
    "        metadata_rows.append(metadata_dict)\n",
    "metadata_df = pd.DataFrame(metadata_rows)\n",
    "print(metadata_df.head())"
   ]
  },
  {
   "cell_type": "code",
   "execution_count": 14,
   "id": "f2800f0d",
   "metadata": {},
   "outputs": [
    {
     "data": {
      "image/png": "[encoded data removed]",
      "text/plain": [
       "<Figure size 1000x500 with 1 Axes>"
      ]
     },
     "metadata": {},
     "output_type": "display_data"
    }
   ],
   "source": [
    "\"\"\"\n",
    "The 'song_hotttnesss' value ranges from 0.0 to 1.0.\n",
    "1- The number of times the song has been played on the radio\n",
    "2- The number of times it has been downloaded\n",
    "3- The number of times it has been favorited by users on social media platforms.\n",
    "\"\"\"\n",
    "dataset_path = '/home/ubuntu/MillionSongSubset/*/*/*/*.h5'\n",
    "table_rows = []\n",
    "for file_path in glob.glob(dataset_path):\n",
    "    with h5py.File(file_path, 'r') as f:\n",
    "        song_hotttnesss = f['/metadata/songs']['song_hotttnesss'][:]\n",
    "        year = f['/musicbrainz/songs']['year'][:]\n",
    "        song_id = f['/metadata/songs']['song_id'][:]\n",
    "        genre = f['/metadata/songs']['genre'][:]\n",
    "        for i in range(len(song_hotttnesss)):\n",
    "            if not np.isnan(song_hotttnesss[i]) and year[i]:\n",
    "                if year[i] == 0:\n",
    "                    year_str = \"N/A\"\n",
    "                else:\n",
    "                    year_str = str(year[i])\n",
    "                table_rows.append([song_id[i], song_hotttnesss[i], year_str, genre[i]])\n",
    "table_rows.sort(key=lambda x: x[1], reverse=True)\n",
    "df = pd.DataFrame(table_rows, columns=['Song ID', 'Song Hotttnesss', 'Year', 'Genre'])\n",
    "df['Year'] = pd.to_numeric(df['Year'], errors='coerce')\n",
    "fig, ax = plt.subplots(figsize=(10, 5))\n",
    "\n",
    "\n",
    "max_hotttnesss = df.groupby('Year')['Song Hotttnesss'].max()\n",
    "max_hotttnesss.plot(kind='bar', ax=ax)\n",
    "ax.set_xlabel('Year')\n",
    "ax.set_ylabel('Song Hotttnesss')\n",
    "ax.set_ylim([0, 1])\n",
    "plt.show()"
   ]
  },
  {
   "cell_type": "code",
   "execution_count": 15,
   "id": "638f7964",
   "metadata": {},
   "outputs": [
    {
     "name": "stdout",
     "output_type": "stream",
     "text": [
      "                 Song ID  Song Hotttnesss  Year Genre\n",
      "0  b'SOAAXAK12A8C13C030'         1.000000  1970   b''\n",
      "1  b'SOULTKQ12AB018A183'         1.000000  2010   b''\n",
      "2  b'SOWFUUS12AB01800E7'         0.984347  2008   b''\n",
      "3  b'SOOXLKF12A6D4F594A'         0.979837  2002   b''\n",
      "4  b'SOMKGQN12A8C1339D2'         0.972387  2005   b''\n",
      "5  b'SOOPVJI12AB0183957'         0.945995  2009   b''\n",
      "6  b'SOUXEOI12A6D4FB18E'         0.932274  1992   b''\n",
      "7  b'SOFDYGC12A6D4F9059'         0.928617  2003   b''\n",
      "8  b'SOKYXSZ12A6D4F6E92'         0.928367  1962   b''\n",
      "9  b'SOZIMLB12AF72AD1CD'         0.927133  2007   b''\n"
     ]
    }
   ],
   "source": [
    "df = df.sort_values(by=['Song Hotttnesss'], ascending=False)\n",
    "print(df.head(10))"
   ]
  },
  {
   "cell_type": "code",
   "execution_count": 16,
   "id": "487d7b5b",
   "metadata": {},
   "outputs": [
    {
     "name": "stdout",
     "output_type": "stream",
     "text": [
      "0       b''\n",
      "1       b''\n",
      "2       b''\n",
      "3       b''\n",
      "4       b''\n",
      "       ... \n",
      "9995    b''\n",
      "9996    b''\n",
      "9997    b''\n",
      "9998    b''\n",
      "9999    b''\n",
      "Name: genre, Length: 10000, dtype: object\n",
      "[b'']\n"
     ]
    }
   ],
   "source": [
    "print(metadata_df['genre'])\n",
    "unique_genres = metadata_df['genre'].unique()\n",
    "print(unique_genres)"
   ]
  },
  {
   "cell_type": "code",
   "execution_count": 17,
   "id": "28ddd9ff",
   "metadata": {},
   "outputs": [
    {
     "data": {
      "text/plain": [
       "'\\nb: Blues\\nc: Classical\\ne: Electronic\\nf: Electronic\\nj: Jazz\\nm: Metal\\np: Pop\\nr: Hip-hop/Rap\\ns: Soul/R&B\\nr: Rock\\n'"
      ]
     },
     "execution_count": 17,
     "metadata": {},
     "output_type": "execute_result"
    }
   ],
   "source": [
    "\"\"\"\n",
    "b: Blues\n",
    "c: Classical\n",
    "e: Electronic\n",
    "f: Electronic\n",
    "j: Jazz\n",
    "m: Metal\n",
    "p: Pop\n",
    "r: Hip-hop/Rap\n",
    "s: Soul/R&B\n",
    "r: Rock\n",
    "\"\"\""
   ]
  },
  {
   "cell_type": "code",
   "execution_count": 19,
   "id": "e7b73329",
   "metadata": {},
   "outputs": [
    {
     "data": {
      "image/png": "[encoded data removed]",
      "text/plain": [
       "<Figure size 1000x500 with 1 Axes>"
      ]
     },
     "metadata": {},
     "output_type": "display_data"
    },
    {
     "name": "stdout",
     "output_type": "stream",
     "text": [
      "                 Song ID                                          Song Name  \\\n",
      "0  b'SOAAXAK12A8C13C030'                     Immigrant Song (Album Version)   \n",
      "1  b'SOULTKQ12AB018A183'  Nothin' On You [feat. Bruno Mars] (Album Version)   \n",
      "2  b'SOWFUUS12AB01800E7'         If Today Was Your Last Day (Album Version)   \n",
      "3  b'SOOXLKF12A6D4F594A'                                  Harder To Breathe   \n",
      "4  b'SOMKGQN12A8C1339D2'                                        Blue Orchid   \n",
      "5  b'SOOPVJI12AB0183957'                                       Just Say Yes   \n",
      "6  b'SOUXEOI12A6D4FB18E'           They Reminisce Over You (Single Version)   \n",
      "7  b'SOFDYGC12A6D4F9059'                                     Inertiatic Esp   \n",
      "8  b'SOKYXSZ12A6D4F6E92'                                    The Loco-Motion   \n",
      "9  b'SOZIMLB12AF72AD1CD'                                          Innocence   \n",
      "\n",
      "   Song Hotttnesss  Year Genre  \n",
      "0         1.000000  1970   b''  \n",
      "1         1.000000  2010   b''  \n",
      "2         0.984347  2008   b''  \n",
      "3         0.979837  2002   b''  \n",
      "4         0.972387  2005   b''  \n",
      "5         0.945995  2009   b''  \n",
      "6         0.932274  1992   b''  \n",
      "7         0.928617  2003   b''  \n",
      "8         0.928367  1962   b''  \n",
      "9         0.927133  2007   b''  \n"
     ]
    }
   ],
   "source": [
    "dataset_path = '/home/ubuntu/MillionSongSubset/*/*/*/*.h5'\n",
    "table_rows = []\n",
    "for file_path in glob.glob(dataset_path):\n",
    "    with h5py.File(file_path, 'r') as f:\n",
    "        song_hotttnesss = f['/metadata/songs']['song_hotttnesss'][:]\n",
    "        year = f['/musicbrainz/songs']['year'][:]\n",
    "        song_id = f['/metadata/songs']['song_id'][:]\n",
    "        genre = f['/metadata/songs']['genre'][:]\n",
    "        title = f['/metadata/songs']['title'][:]\n",
    "        for i in range(len(song_hotttnesss)):\n",
    "            if not np.isnan(song_hotttnesss[i]) and year[i]:\n",
    "                if year[i] == 0:\n",
    "                    year_str = \"N/A\"\n",
    "                else:\n",
    "                    year_str = str(year[i])\n",
    "                table_rows.append([song_id[i], title[i].decode(\"utf-8\"), song_hotttnesss[i], year_str, genre[i]])\n",
    "table_rows.sort(key=lambda x: x[2], reverse=True)\n",
    "df = pd.DataFrame(table_rows, columns=['Song ID', 'Song Name', 'Song Hotttnesss', 'Year', 'Genre'])\n",
    "df['Year'] = pd.to_numeric(df['Year'], errors='coerce')\n",
    "fig, ax = plt.subplots(figsize=(10, 5))\n",
    "max_hotttnesss = df.groupby('Year')['Song Hotttnesss'].max()\n",
    "max_hotttnesss.plot(kind='bar', ax=ax)\n",
    "ax.set_xlabel('Year')\n",
    "ax.set_ylabel('Song Hotttnesss')\n",
    "ax.set_ylim([0, 1])\n",
    "plt.show()\n",
    "df = df.sort_values(by=['Song Hotttnesss'], ascending=False)\n",
    "print(df.head(10))"
   ]
  },
  {
   "cell_type": "code",
   "execution_count": null,
   "id": "6741d040",
   "metadata": {},
   "outputs": [],
   "source": []
  }
 ],
 "metadata": {
  "kernelspec": {
   "display_name": "Python 3 (ipykernel)",
   "language": "python",
   "name": "python3"
  },
  "language_info": {
   "codemirror_mode": {
    "name": "ipython",
    "version": 3
   },
   "file_extension": ".py",
   "mimetype": "text/x-python",
   "name": "python",
   "nbconvert_exporter": "python",
   "pygments_lexer": "ipython3",
   "version": "3.10.6"
  }
 },
 "nbformat": 4,
 "nbformat_minor": 5
}
